{
 "cells": [
  {
   "cell_type": "markdown",
   "id": "9a020a0b",
   "metadata": {
    "papermill": {
     "duration": 0.009176,
     "end_time": "2022-08-23T19:22:36.144215",
     "exception": false,
     "start_time": "2022-08-23T19:22:36.135039",
     "status": "completed"
    },
    "tags": []
   },
   "source": [
    "> # Characterization of Written Texts by Fractal Dimension (Higuchi Method) and Detrended Fluctuation Analysis.\n",
    ">@aut: Jorge Adán G.\n",
    ">\n",
    ">ref: T. Higuchi (1988). Approach to an Irregular Time Series on the Basis of the Fractal Theory. Physica D. Amsterdam. Also Jorge Adán Gonzalez (2022). Characterization of Writen Texts by Fibonacci \n",
    "Transform (for DFA see more at https://physionet.org/content/dfa/1.0.0/) \n",
    ">\n",
    ">This work aims to characterize written texts to verify the distinction between natural language and synthetically generated language. It seeks to establish a method to discern texts that obey grammatical rules from those randomly generated texts. To verify this we are going to compare the text with the shuffled case of the book.\n"
   ]
  },
  {
   "cell_type": "markdown",
   "id": "1dfc85b3",
   "metadata": {
    "papermill": {
     "duration": 0.00647,
     "end_time": "2022-08-23T19:22:36.157931",
     "exception": false,
     "start_time": "2022-08-23T19:22:36.151461",
     "status": "completed"
    },
    "tags": []
   },
   "source": [
    ">The first part we are going to work is on the properties of the cumulative sum to obtain a sequence from the behavior of the vowels in a written text. We will consider the sequence as a time series to make a characterization by the fractal dimension (Higuchi method) and detrended fluctuation analysis (DFA).\n",
    "> When using these methods, it is convenient to characterize the structure of the text based on the order of the words, since the complexity in the structure that we are looking for is in the ordering of the words.\n",
    ">\n",
    ">In the same way that we have been working with vowels in my previous work on the Characterization of Written Texts by the Fibonacci Transform, the analogous way to do it for an accumulated sequence is by the rule for a pair of vowels $(v_0, v_1)$:\n",
    ">\n",
    ">    $ v_0 \\rightarrow -1 $\n",
    ">\n",
    ">    $ v_1 \\rightarrow 1 $\n",
    ">\n",
    ">For example, if we consider to associate:\n",
    ">     $ i \\rightarrow (-1) $ and\n",
    ">     $ e \\rightarrow 1 $,\n",
    ">then we want to obtain the list:\n",
    ">\n",
    "> 'This is an example' $\\rightarrow [-1, -1, 1, 1]$ \n",
    ">\n",
    ">Note that we are ignoring whether or not is a capital letter. We can implement this straightforward:\n",
    ">"
   ]
  },
  {
   "cell_type": "code",
   "execution_count": 1,
   "id": "cd2769cd",
   "metadata": {
    "execution": {
     "iopub.execute_input": "2022-08-23T19:22:36.173671Z",
     "iopub.status.busy": "2022-08-23T19:22:36.173136Z",
     "iopub.status.idle": "2022-08-23T19:22:36.188284Z",
     "shell.execute_reply": "2022-08-23T19:22:36.187349Z"
    },
    "papermill": {
     "duration": 0.026387,
     "end_time": "2022-08-23T19:22:36.191122",
     "exception": false,
     "start_time": "2022-08-23T19:22:36.164735",
     "status": "completed"
    },
    "tags": []
   },
   "outputs": [],
   "source": [
    "def vow_to_seq(c1, c2, text):\n",
    "    seq = []\n",
    "    \n",
    "    for i in text:\n",
    "        if i == c1 or i == c1.upper():\n",
    "            seq.append(-1)\n",
    "        elif i == c2 or i == c2.upper():\n",
    "            seq.append(1)\n",
    "        else:\n",
    "            pass\n",
    "            \n",
    "    return seq"
   ]
  },
  {
   "cell_type": "markdown",
   "id": "f34f3692",
   "metadata": {
    "papermill": {
     "duration": 0.006484,
     "end_time": "2022-08-23T19:22:36.204587",
     "exception": false,
     "start_time": "2022-08-23T19:22:36.198103",
     "status": "completed"
    },
    "tags": []
   },
   "source": [
    ">Using the same text as our previous work by Fibonacci transformation"
   ]
  },
  {
   "cell_type": "code",
   "execution_count": 2,
   "id": "46c1f0f6",
   "metadata": {
    "execution": {
     "iopub.execute_input": "2022-08-23T19:22:36.221017Z",
     "iopub.status.busy": "2022-08-23T19:22:36.220307Z",
     "iopub.status.idle": "2022-08-23T19:22:36.245736Z",
     "shell.execute_reply": "2022-08-23T19:22:36.244789Z"
    },
    "papermill": {
     "duration": 0.03837,
     "end_time": "2022-08-23T19:22:36.249736",
     "exception": false,
     "start_time": "2022-08-23T19:22:36.211366",
     "status": "completed"
    },
    "tags": []
   },
   "outputs": [
    {
     "name": "stdout",
     "output_type": "stream",
     "text": [
      "The Adventures of Sherlock Holmes\n",
      "\n",
      "by Arthur Conan Doyle\n",
      "\n",
      "\n",
      "Contents\n",
      "\n",
      "   I.     A Scandal in Bohemia\n",
      "   II.    The Red-Headed League\n",
      "   III.   A Case of Identity\n",
      "   IV.    The Boscombe Valley Mystery\n",
      "   V.     The Five Orange Pips\n",
      "   VI.    The Man with the Twisted Lip\n",
      "   VII.   The Adventure of the Blue Carbuncle\n",
      "   VIII.  The Adventure of the Speckled Band\n",
      "   IX.    The Adventure of the Engineer’s Thumb\n",
      "   X.     The Adventure of the Noble Bachelor\n",
      "   XI.    The Adventure of the Beryl Coronet\n",
      " \n"
     ]
    }
   ],
   "source": [
    "text_name = '../input/sherlock-holmes-txt/Sherlock.txt'\n",
    "\n",
    "with open(text_name, encoding='utf8') as f:\n",
    "    text = f.read()\n",
    "    \n",
    "print(text[:500])"
   ]
  },
  {
   "cell_type": "markdown",
   "id": "b1c4c532",
   "metadata": {
    "papermill": {
     "duration": 0.006768,
     "end_time": "2022-08-23T19:22:36.264051",
     "exception": false,
     "start_time": "2022-08-23T19:22:36.257283",
     "status": "completed"
    },
    "tags": []
   },
   "source": [
    ">And also writing a function that shuffle the text in order to make the comparison "
   ]
  },
  {
   "cell_type": "code",
   "execution_count": 3,
   "id": "ea4effe6",
   "metadata": {
    "execution": {
     "iopub.execute_input": "2022-08-23T19:22:36.281108Z",
     "iopub.status.busy": "2022-08-23T19:22:36.280358Z",
     "iopub.status.idle": "2022-08-23T19:22:36.431026Z",
     "shell.execute_reply": "2022-08-23T19:22:36.429670Z"
    },
    "papermill": {
     "duration": 0.161697,
     "end_time": "2022-08-23T19:22:36.433778",
     "exception": false,
     "start_time": "2022-08-23T19:22:36.272081",
     "status": "completed"
    },
    "tags": []
   },
   "outputs": [
    {
     "name": "stdout",
     "output_type": "stream",
     "text": [
      "me were who I that levers to-night.” will that upon not about shall you’ll young. pips and imagination.” writing, it business.” great soul! He boots about manual was least,” and advice.” face, would then just up ever a see a ‘I precaution Tollers with him very the with in break “I a at monotonous in grey said “Oh, the high, you.” time rascally an came that it. will one foot of dangling at meet over looking personal the is from earn You she. been upon and disappearance I course attracted I or I i\n"
     ]
    }
   ],
   "source": [
    "import random\n",
    "from random import shuffle\n",
    "\n",
    "def scramble(sentence):\n",
    "    split = sentence.split()  \n",
    "    shuffle(split)\n",
    "    return ' '.join(split)\n",
    "\n",
    "print(scramble(text)[:500])"
   ]
  },
  {
   "cell_type": "markdown",
   "id": "55404f7a",
   "metadata": {
    "papermill": {
     "duration": 0.007602,
     "end_time": "2022-08-23T19:22:36.448532",
     "exception": false,
     "start_time": "2022-08-23T19:22:36.440930",
     "status": "completed"
    },
    "tags": []
   },
   "source": [
    "> in this way we can study how these two texts differ to see if we can find a relationship with the grammatical structures of the original text.\n",
    ">\n",
    "> In order to generate the cumulative sum we can just use the cumsum function from numpy library, but we are going to work with the explicit formula since we are going to make an adjustment with respect to the mean. \n",
    ">\n",
    "> For example, we can visualize for the vowels (o,u):"
   ]
  },
  {
   "cell_type": "code",
   "execution_count": 4,
   "id": "4c4e10c3",
   "metadata": {
    "_kg_hide-input": true,
    "execution": {
     "iopub.execute_input": "2022-08-23T19:22:36.466333Z",
     "iopub.status.busy": "2022-08-23T19:22:36.465520Z",
     "iopub.status.idle": "2022-08-23T19:22:36.986453Z",
     "shell.execute_reply": "2022-08-23T19:22:36.985032Z"
    },
    "papermill": {
     "duration": 0.533276,
     "end_time": "2022-08-23T19:22:36.990179",
     "exception": false,
     "start_time": "2022-08-23T19:22:36.456903",
     "status": "completed"
    },
    "tags": []
   },
   "outputs": [
    {
     "data": {
      "image/png": "[encoded data removed]",
      "text/plain": [
       "<Figure size 720x576 with 1 Axes>"
      ]
     },
     "metadata": {
      "needs_background": "light"
     },
     "output_type": "display_data"
    }
   ],
   "source": [
    "import numpy as np\n",
    "import matplotlib.pyplot as plt\n",
    "\n",
    "def seq_to_sum(seq):\n",
    "    import numpy as np\n",
    "    \n",
    "    # Teniendo la secuencia de -1s y 1s, se hace la acumulación mediante la suma yn = sum_(i=1)^n [xi]\n",
    "\n",
    "    seq_ac = []\n",
    "    xn = 0\n",
    "    mean = np.mean(seq)\n",
    "\n",
    "    for xi in seq:\n",
    "        xn = xi + xn - mean\n",
    "        seq_ac.append(xn)\n",
    "\n",
    "    seq_ac = np.array(seq_ac)\n",
    "\n",
    "    return seq_ac\n",
    "\n",
    "seq = vow_to_seq('o', 'u', text)\n",
    "seq_ac = seq_to_sum(seq)\n",
    "\n",
    "# Visualization\n",
    "plt.style.use('seaborn-poster')\n",
    "plt.figure(figsize = (10,8))\n",
    "plt.xlabel(\"Elements\")\n",
    "plt.ylabel(\"Cumulative sum\")\n",
    "plt.plot(seq_ac[0:1000])\n",
    "plt.show()\n",
    "\n",
    "\n",
    "\n"
   ]
  },
  {
   "cell_type": "markdown",
   "id": "d582403b",
   "metadata": {
    "papermill": {
     "duration": 0.00771,
     "end_time": "2022-08-23T19:22:37.006534",
     "exception": false,
     "start_time": "2022-08-23T19:22:36.998824",
     "status": "completed"
    },
    "tags": []
   },
   "source": [
    "> We write a function in order to do every process at once, making the option to shuffle text by a given seed"
   ]
  },
  {
   "cell_type": "code",
   "execution_count": 5,
   "id": "362f32e6",
   "metadata": {
    "execution": {
     "iopub.execute_input": "2022-08-23T19:22:37.026378Z",
     "iopub.status.busy": "2022-08-23T19:22:37.024991Z",
     "iopub.status.idle": "2022-08-23T19:22:37.032516Z",
     "shell.execute_reply": "2022-08-23T19:22:37.031309Z"
    },
    "papermill": {
     "duration": 0.019947,
     "end_time": "2022-08-23T19:22:37.035179",
     "exception": false,
     "start_time": "2022-08-23T19:22:37.015232",
     "status": "completed"
    },
    "tags": []
   },
   "outputs": [],
   "source": [
    "def vow_to_data(c1, c2, text, mySeed):\n",
    "    \n",
    "    if mySeed != None:\n",
    "        text = scramble(text)\n",
    "    \n",
    "    seq = vow_to_seq(c1, c2, text)\n",
    "    data = seq_to_sum(seq)\n",
    "    \n",
    "    return data\n",
    "    "
   ]
  },
  {
   "cell_type": "markdown",
   "id": "d51e14f1",
   "metadata": {
    "papermill": {
     "duration": 0.007398,
     "end_time": "2022-08-23T19:22:37.050352",
     "exception": false,
     "start_time": "2022-08-23T19:22:37.042954",
     "status": "completed"
    },
    "tags": []
   },
   "source": [
    "# Fractal Dimension (Higuchi Method)"
   ]
  },
  {
   "cell_type": "markdown",
   "id": "09b5bf23",
   "metadata": {
    "papermill": {
     "duration": 0.007898,
     "end_time": "2022-08-23T19:22:37.066883",
     "exception": false,
     "start_time": "2022-08-23T19:22:37.058985",
     "status": "completed"
    },
    "tags": []
   },
   "source": [
    "> We are ready to apply the Higuchi method, which is a  method used to obtain the dimension. This method is based on an algorithm that allows obtaining points in the Log(k)-LogL(k) plane and thus adjusting by least squares and determining the slope. So the power law implies that <L(k)> ~ k^(-D). The details are in the first reference. We implement it straightforward."
   ]
  },
  {
   "cell_type": "code",
   "execution_count": 6,
   "id": "9b699174",
   "metadata": {
    "_kg_hide-input": true,
    "execution": {
     "iopub.execute_input": "2022-08-23T19:22:37.085694Z",
     "iopub.status.busy": "2022-08-23T19:22:37.085189Z",
     "iopub.status.idle": "2022-08-23T19:22:37.097831Z",
     "shell.execute_reply": "2022-08-23T19:22:37.096849Z"
    },
    "papermill": {
     "duration": 0.024244,
     "end_time": "2022-08-23T19:22:37.099908",
     "exception": false,
     "start_time": "2022-08-23T19:22:37.075664",
     "status": "completed"
    },
    "tags": []
   },
   "outputs": [],
   "source": [
    "def higuchi(data): \n",
    "    import numpy as np\n",
    "    import sys, random,string,math\n",
    "# \n",
    "    N = len(data)\n",
    "    lk = int(N/10) #around(N/10)\n",
    "    Lpp = []\n",
    "    KK = []\n",
    "    k = 1\n",
    "    \n",
    "    while k < lk + 1:\n",
    "    #for k in range(1,lk+1):\n",
    "        k = int(ceil(k))\t\n",
    "        Lpro = 0\n",
    "        for m in range(1,k+1):\n",
    "            a = arange(m-1,N,k)\n",
    "            nn = ceil(N-m/k)\n",
    "            tam = len(a)-1   \n",
    "            Lmk = 0\n",
    "            for i in range(0,tam):\n",
    "                    Lmk = Lmk+abs(data[a[i+1]]-data[a[i]])*(N-1)/(nn*k*k)\n",
    "        \n",
    "            Lpro = Lpro+Lmk\n",
    "            \n",
    "        Lpp.append(Lpro)\n",
    "        KK.append(k)\n",
    "        k = k+k*0.2 \n",
    "        #print k,Lpp \n",
    "    #K = arange(1,len(Lpp)+1)\n",
    "    klog = []\n",
    "    \n",
    "    for i in KK:\n",
    "        z = math.log(i)\n",
    "        klog.append(z)\n",
    "    Lpplog = []\n",
    "    for j in Lpp:\n",
    "        y=math.log(j)\n",
    "        Lpplog.append(y)\n",
    "\n",
    "    return klog, Lpplog"
   ]
  },
  {
   "cell_type": "markdown",
   "id": "3ede412e",
   "metadata": {
    "papermill": {
     "duration": 0.008123,
     "end_time": "2022-08-23T19:22:37.116374",
     "exception": false,
     "start_time": "2022-08-23T19:22:37.108251",
     "status": "completed"
    },
    "tags": []
   },
   "source": [
    "> We apply it for the vowels (a,e)"
   ]
  },
  {
   "cell_type": "code",
   "execution_count": 7,
   "id": "5dbb2a8e",
   "metadata": {
    "_kg_hide-input": true,
    "execution": {
     "iopub.execute_input": "2022-08-23T19:22:37.135567Z",
     "iopub.status.busy": "2022-08-23T19:22:37.135125Z",
     "iopub.status.idle": "2022-08-23T19:22:44.600914Z",
     "shell.execute_reply": "2022-08-23T19:22:44.598505Z"
    },
    "papermill": {
     "duration": 7.479047,
     "end_time": "2022-08-23T19:22:44.603787",
     "exception": false,
     "start_time": "2022-08-23T19:22:37.124740",
     "status": "completed"
    },
    "tags": []
   },
   "outputs": [
    {
     "name": "stdout",
     "output_type": "stream",
     "text": [
      "Higuchi Dimension: 1.458524588719885\n"
     ]
    },
    {
     "data": {
      "image/png": "[encoded data removed]",
      "text/plain": [
       "<Figure size 720x576 with 1 Axes>"
      ]
     },
     "metadata": {
      "needs_background": "light"
     },
     "output_type": "display_data"
    }
   ],
   "source": [
    "# Método explícito\n",
    "#Secuencia sin shufflear (seed = None)\n",
    "\n",
    "from numpy import *\n",
    "import scipy\n",
    "from scipy import stats\n",
    "\n",
    "\n",
    "mySeed = None\n",
    "data = vow_to_data('a', 'e', text, mySeed)\n",
    "klog, Lpplog = higuchi(data)\n",
    "\n",
    "alpha = scipy.stats.linregress(klog, Lpplog)\n",
    "m = alpha[0]\n",
    "b = alpha[1]\n",
    "\n",
    "x = np.array(klog)\n",
    "\n",
    "plt.style.use('seaborn-poster')\n",
    "plt.figure(figsize = (10,8))\n",
    "plt.title('Higuchi Dimension')\n",
    "plt.xlabel(\"klog\")\n",
    "plt.ylabel(\"Lpplog\")\n",
    "plt.plot(klog, Lpplog, 'o')\n",
    "plt.plot(x, m*x + b, 'r')\n",
    "plt.show\n",
    "\n",
    "print('Higuchi Dimension: ' + str(abs(m)))"
   ]
  },
  {
   "cell_type": "markdown",
   "id": "7d068975",
   "metadata": {
    "papermill": {
     "duration": 0.008848,
     "end_time": "2022-08-23T19:22:44.622549",
     "exception": false,
     "start_time": "2022-08-23T19:22:44.613701",
     "status": "completed"
    },
    "tags": []
   },
   "source": [
    ">With this method we calculate all the fractal dimensions for the text, and also for the shuffled text for every pair of vowels. It is worth mentioning that for the shuffled text we have made 200 random calculation since the computation time is considerable, and we give an average of the shuffled forms. I attach a cvs that contains all the calculations for the other vowels and the shuffled variants."
   ]
  },
  {
   "cell_type": "markdown",
   "id": "e2b34a5e",
   "metadata": {
    "papermill": {
     "duration": 0.008105,
     "end_time": "2022-08-23T19:22:44.639563",
     "exception": false,
     "start_time": "2022-08-23T19:22:44.631458",
     "status": "completed"
    },
    "tags": []
   },
   "source": [
    "# DFA"
   ]
  },
  {
   "cell_type": "markdown",
   "id": "2902756d",
   "metadata": {
    "papermill": {
     "duration": 0.0082,
     "end_time": "2022-08-23T19:22:44.657195",
     "exception": false,
     "start_time": "2022-08-23T19:22:44.648995",
     "status": "completed"
    },
    "tags": []
   },
   "source": [
    "> We are interested in calculate the fluctuation using the explicit formula from the reference.\n",
    ">\n",
    "> For many types of time series the fluctuation behavior is logarithmic with respect to the window size $n$. When we have this logarithmic behavior we say that it is statistical self-similarity. \n",
    "> Taking the log-log plot of $F(n)$ versus $n$ and making a linear regression we calculate the exponent 𝛼, which is calculated as the slope of a straight line that fits the log-log scale plot."
   ]
  },
  {
   "cell_type": "code",
   "execution_count": 8,
   "id": "fc90251c",
   "metadata": {
    "_kg_hide-input": true,
    "execution": {
     "iopub.execute_input": "2022-08-23T19:22:44.676914Z",
     "iopub.status.busy": "2022-08-23T19:22:44.676536Z",
     "iopub.status.idle": "2022-08-23T19:22:44.689417Z",
     "shell.execute_reply": "2022-08-23T19:22:44.687617Z"
    },
    "papermill": {
     "duration": 0.025761,
     "end_time": "2022-08-23T19:22:44.692471",
     "exception": false,
     "start_time": "2022-08-23T19:22:44.666710",
     "status": "completed"
    },
    "tags": []
   },
   "outputs": [],
   "source": [
    "def dfa(data):\n",
    "    import random,string,math\n",
    "    from random import randint\n",
    "\n",
    "    n = len(data)\n",
    "    mu = mean(data)\n",
    "    #y=list(data)\n",
    "    y = []\n",
    "    for i in range(1,n):\n",
    "        ys = sum(data[0:i]-mu)\n",
    "        y.append(ys)\n",
    "        #print ys\n",
    "\n",
    "    k = 4\n",
    "    j = 1\n",
    "\n",
    "    logk = []\n",
    "    logsqrt = []\n",
    "    while k <= n/5:\n",
    "        suma = 0\t\t\n",
    "        for m in range(1,int(n/k)):\n",
    "            a = 0\n",
    "            b = 0\n",
    "            a,b = polyfit(range(int(k*(m-1)),int(k*m)),y[int(k*(m-1)):int(k*m)],1)\n",
    "            tau = []\n",
    "            t = 0 \n",
    "            for i in range(int(k*(m-1)),int(k*m)):\n",
    "                t=y[i]-(a*(i)+b)\n",
    "                tau.append(t)\n",
    "            \n",
    "            sm = 0                 \t\t\n",
    "            for s in tau:\n",
    "                sm = sm+float(s*s)\t\t\t\n",
    "            \n",
    "            suma = suma+sm\n",
    "\n",
    "        sumatot = float(suma/n)\n",
    "\n",
    "        logk.append(log10(k))\n",
    "        logsqrt.append(log10(sqrt(sumatot)))\n",
    "\n",
    "        k=ceil(k+k*(0.1))\n",
    "\n",
    "    return logk, logsqrt"
   ]
  },
  {
   "cell_type": "markdown",
   "id": "5a1889a4",
   "metadata": {
    "papermill": {
     "duration": 0.00992,
     "end_time": "2022-08-23T19:22:44.711132",
     "exception": false,
     "start_time": "2022-08-23T19:22:44.701212",
     "status": "completed"
    },
    "tags": []
   },
   "source": [
    "> Using it for the pair of vowels (a,e) we obtain:\n"
   ]
  },
  {
   "cell_type": "code",
   "execution_count": 9,
   "id": "c7677b98",
   "metadata": {
    "_kg_hide-input": true,
    "execution": {
     "iopub.execute_input": "2022-08-23T19:22:44.731018Z",
     "iopub.status.busy": "2022-08-23T19:22:44.730232Z",
     "iopub.status.idle": "2022-08-23T19:23:09.267031Z",
     "shell.execute_reply": "2022-08-23T19:23:09.265544Z"
    },
    "papermill": {
     "duration": 24.549995,
     "end_time": "2022-08-23T19:23:09.270099",
     "exception": false,
     "start_time": "2022-08-23T19:22:44.720104",
     "status": "completed"
    },
    "tags": []
   },
   "outputs": [
    {
     "name": "stdout",
     "output_type": "stream",
     "text": [
      "DFA: 1.5382373943629688\n"
     ]
    },
    {
     "data": {
      "image/png": "[encoded data removed]",
      "text/plain": [
       "<Figure size 720x576 with 1 Axes>"
      ]
     },
     "metadata": {
      "needs_background": "light"
     },
     "output_type": "display_data"
    }
   ],
   "source": [
    "# Using it for the pair of vowels (a,e), i.e. using the \"data\" variable:\n",
    "\n",
    "import scipy\n",
    "from scipy import stats\n",
    "\n",
    "x, y = dfa(data)\n",
    "x = np.array(x)\n",
    "y = np.array(y)\n",
    "\n",
    "alpha = scipy.stats.linregress(x, y)\n",
    "m = alpha[0]\n",
    "b = alpha[1]\n",
    "\n",
    "plt.style.use('seaborn-poster')\n",
    "plt.figure(figsize = (10,8))\n",
    "plt.title('DFA')\n",
    "plt.xlabel(\"klog\")\n",
    "plt.ylabel(\"L(log(k))\")\n",
    "plt.plot(x, y, 'o')\n",
    "plt.plot(x, m*x + b, 'r')\n",
    "plt.show\n",
    "\n",
    "print('DFA: ' + str(abs(m)))"
   ]
  },
  {
   "cell_type": "markdown",
   "id": "2f0672b4",
   "metadata": {
    "papermill": {
     "duration": 0.008937,
     "end_time": "2022-08-23T19:23:09.289327",
     "exception": false,
     "start_time": "2022-08-23T19:23:09.280390",
     "status": "completed"
    },
    "tags": []
   },
   "source": [
    "> We can continue with the rest of the vowels and also the shuffled case. I list the calculations in the .CVS"
   ]
  },
  {
   "cell_type": "code",
   "execution_count": 10,
   "id": "44193a27",
   "metadata": {
    "execution": {
     "iopub.execute_input": "2022-08-23T19:23:09.310765Z",
     "iopub.status.busy": "2022-08-23T19:23:09.309919Z",
     "iopub.status.idle": "2022-08-23T19:23:09.360061Z",
     "shell.execute_reply": "2022-08-23T19:23:09.358377Z"
    },
    "papermill": {
     "duration": 0.063805,
     "end_time": "2022-08-23T19:23:09.362838",
     "exception": false,
     "start_time": "2022-08-23T19:23:09.299033",
     "status": "completed"
    },
    "tags": []
   },
   "outputs": [
    {
     "data": {
      "text/html": [
       "<div>\n",
       "<style scoped>\n",
       "    .dataframe tbody tr th:only-of-type {\n",
       "        vertical-align: middle;\n",
       "    }\n",
       "\n",
       "    .dataframe tbody tr th {\n",
       "        vertical-align: top;\n",
       "    }\n",
       "\n",
       "    .dataframe thead th {\n",
       "        text-align: right;\n",
       "    }\n",
       "</style>\n",
       "<table border=\"1\" class=\"dataframe\">\n",
       "  <thead>\n",
       "    <tr style=\"text-align: right;\">\n",
       "      <th></th>\n",
       "      <th>D_hig</th>\n",
       "      <th>DFA</th>\n",
       "      <th>D_hig_mean</th>\n",
       "      <th>DFA_mean</th>\n",
       "      <th>std_D_hig</th>\n",
       "      <th>std_DFA</th>\n",
       "      <th>m</th>\n",
       "      <th>b</th>\n",
       "      <th>m_mean</th>\n",
       "      <th>b_mean</th>\n",
       "      <th>std_m</th>\n",
       "      <th>std_b</th>\n",
       "    </tr>\n",
       "    <tr>\n",
       "      <th>vowels</th>\n",
       "      <th></th>\n",
       "      <th></th>\n",
       "      <th></th>\n",
       "      <th></th>\n",
       "      <th></th>\n",
       "      <th></th>\n",
       "      <th></th>\n",
       "      <th></th>\n",
       "      <th></th>\n",
       "      <th></th>\n",
       "      <th></th>\n",
       "      <th></th>\n",
       "    </tr>\n",
       "  </thead>\n",
       "  <tbody>\n",
       "    <tr>\n",
       "      <th>ea</th>\n",
       "      <td>1.458935</td>\n",
       "      <td>1.537757</td>\n",
       "      <td>1.528183</td>\n",
       "      <td>1.474855</td>\n",
       "      <td>0.016505</td>\n",
       "      <td>0.019473</td>\n",
       "      <td>0.659868</td>\n",
       "      <td>-0.648270</td>\n",
       "      <td>0.660997</td>\n",
       "      <td>0.014193</td>\n",
       "      <td>0.001922</td>\n",
       "      <td>85.405226</td>\n",
       "    </tr>\n",
       "    <tr>\n",
       "      <th>ai</th>\n",
       "      <td>1.463665</td>\n",
       "      <td>1.531527</td>\n",
       "      <td>1.523218</td>\n",
       "      <td>1.477284</td>\n",
       "      <td>0.016531</td>\n",
       "      <td>0.030805</td>\n",
       "      <td>0.856456</td>\n",
       "      <td>-57.361404</td>\n",
       "      <td>0.857754</td>\n",
       "      <td>0.075573</td>\n",
       "      <td>0.003021</td>\n",
       "      <td>83.842331</td>\n",
       "    </tr>\n",
       "    <tr>\n",
       "      <th>ao</th>\n",
       "      <td>1.447223</td>\n",
       "      <td>1.542101</td>\n",
       "      <td>1.515540</td>\n",
       "      <td>1.477463</td>\n",
       "      <td>0.018407</td>\n",
       "      <td>0.015642</td>\n",
       "      <td>0.949817</td>\n",
       "      <td>18.604271</td>\n",
       "      <td>0.953979</td>\n",
       "      <td>0.068890</td>\n",
       "      <td>0.003408</td>\n",
       "      <td>94.034470</td>\n",
       "    </tr>\n",
       "    <tr>\n",
       "      <th>au</th>\n",
       "      <td>1.415597</td>\n",
       "      <td>1.569071</td>\n",
       "      <td>1.520836</td>\n",
       "      <td>1.477657</td>\n",
       "      <td>0.017780</td>\n",
       "      <td>0.025848</td>\n",
       "      <td>0.364883</td>\n",
       "      <td>80.853218</td>\n",
       "      <td>0.372676</td>\n",
       "      <td>0.068035</td>\n",
       "      <td>0.001622</td>\n",
       "      <td>45.978420</td>\n",
       "    </tr>\n",
       "    <tr>\n",
       "      <th>ei</th>\n",
       "      <td>1.468129</td>\n",
       "      <td>1.523679</td>\n",
       "      <td>1.520339</td>\n",
       "      <td>1.470386</td>\n",
       "      <td>0.020851</td>\n",
       "      <td>0.021862</td>\n",
       "      <td>0.565217</td>\n",
       "      <td>-59.932681</td>\n",
       "      <td>0.566843</td>\n",
       "      <td>-0.145894</td>\n",
       "      <td>0.001846</td>\n",
       "      <td>78.118656</td>\n",
       "    </tr>\n",
       "    <tr>\n",
       "      <th>eo</th>\n",
       "      <td>1.447197</td>\n",
       "      <td>1.548858</td>\n",
       "      <td>1.515277</td>\n",
       "      <td>1.486021</td>\n",
       "      <td>0.014973</td>\n",
       "      <td>0.021179</td>\n",
       "      <td>0.626834</td>\n",
       "      <td>16.069217</td>\n",
       "      <td>0.630673</td>\n",
       "      <td>-0.021015</td>\n",
       "      <td>0.001978</td>\n",
       "      <td>86.479284</td>\n",
       "    </tr>\n",
       "    <tr>\n",
       "      <th>eu</th>\n",
       "      <td>1.409839</td>\n",
       "      <td>1.585815</td>\n",
       "      <td>1.515448</td>\n",
       "      <td>1.485843</td>\n",
       "      <td>0.012913</td>\n",
       "      <td>0.021452</td>\n",
       "      <td>0.240810</td>\n",
       "      <td>79.690752</td>\n",
       "      <td>0.246352</td>\n",
       "      <td>-0.090385</td>\n",
       "      <td>0.001040</td>\n",
       "      <td>45.398081</td>\n",
       "    </tr>\n",
       "    <tr>\n",
       "      <th>oi</th>\n",
       "      <td>1.504702</td>\n",
       "      <td>1.493839</td>\n",
       "      <td>1.516809</td>\n",
       "      <td>1.465258</td>\n",
       "      <td>0.020241</td>\n",
       "      <td>0.017938</td>\n",
       "      <td>0.901695</td>\n",
       "      <td>-73.093017</td>\n",
       "      <td>0.898889</td>\n",
       "      <td>-0.010039</td>\n",
       "      <td>0.003054</td>\n",
       "      <td>83.001055</td>\n",
       "    </tr>\n",
       "    <tr>\n",
       "      <th>iu</th>\n",
       "      <td>1.451354</td>\n",
       "      <td>1.541765</td>\n",
       "      <td>1.516868</td>\n",
       "      <td>1.477311</td>\n",
       "      <td>0.016394</td>\n",
       "      <td>0.018340</td>\n",
       "      <td>0.426063</td>\n",
       "      <td>103.780695</td>\n",
       "      <td>0.434435</td>\n",
       "      <td>0.033838</td>\n",
       "      <td>0.001991</td>\n",
       "      <td>49.612882</td>\n",
       "    </tr>\n",
       "    <tr>\n",
       "      <th>ou</th>\n",
       "      <td>1.470257</td>\n",
       "      <td>1.531641</td>\n",
       "      <td>1.524005</td>\n",
       "      <td>1.470511</td>\n",
       "      <td>0.023378</td>\n",
       "      <td>0.019634</td>\n",
       "      <td>0.384197</td>\n",
       "      <td>72.430280</td>\n",
       "      <td>0.390565</td>\n",
       "      <td>-0.020975</td>\n",
       "      <td>0.001605</td>\n",
       "      <td>42.257867</td>\n",
       "    </tr>\n",
       "  </tbody>\n",
       "</table>\n",
       "</div>"
      ],
      "text/plain": [
       "           D_hig       DFA  D_hig_mean  DFA_mean  std_D_hig   std_DFA  \\\n",
       "vowels                                                                  \n",
       "ea      1.458935  1.537757    1.528183  1.474855   0.016505  0.019473   \n",
       "ai      1.463665  1.531527    1.523218  1.477284   0.016531  0.030805   \n",
       "ao      1.447223  1.542101    1.515540  1.477463   0.018407  0.015642   \n",
       "au      1.415597  1.569071    1.520836  1.477657   0.017780  0.025848   \n",
       "ei      1.468129  1.523679    1.520339  1.470386   0.020851  0.021862   \n",
       "eo      1.447197  1.548858    1.515277  1.486021   0.014973  0.021179   \n",
       "eu      1.409839  1.585815    1.515448  1.485843   0.012913  0.021452   \n",
       "oi      1.504702  1.493839    1.516809  1.465258   0.020241  0.017938   \n",
       "iu      1.451354  1.541765    1.516868  1.477311   0.016394  0.018340   \n",
       "ou      1.470257  1.531641    1.524005  1.470511   0.023378  0.019634   \n",
       "\n",
       "               m           b    m_mean    b_mean     std_m      std_b  \n",
       "vowels                                                                 \n",
       "ea      0.659868   -0.648270  0.660997  0.014193  0.001922  85.405226  \n",
       "ai      0.856456  -57.361404  0.857754  0.075573  0.003021  83.842331  \n",
       "ao      0.949817   18.604271  0.953979  0.068890  0.003408  94.034470  \n",
       "au      0.364883   80.853218  0.372676  0.068035  0.001622  45.978420  \n",
       "ei      0.565217  -59.932681  0.566843 -0.145894  0.001846  78.118656  \n",
       "eo      0.626834   16.069217  0.630673 -0.021015  0.001978  86.479284  \n",
       "eu      0.240810   79.690752  0.246352 -0.090385  0.001040  45.398081  \n",
       "oi      0.901695  -73.093017  0.898889 -0.010039  0.003054  83.001055  \n",
       "iu      0.426063  103.780695  0.434435  0.033838  0.001991  49.612882  \n",
       "ou      0.384197   72.430280  0.390565 -0.020975  0.001605  42.257867  "
      ]
     },
     "execution_count": 10,
     "metadata": {},
     "output_type": "execute_result"
    }
   ],
   "source": [
    "import pandas as pd\n",
    "\n",
    "table = '../input/fractald-dfa-fibo/data_fibo.csv'\n",
    "df = pd.read_csv(table, index_col=0)\n",
    "\n",
    "df"
   ]
  },
  {
   "cell_type": "markdown",
   "id": "3b8d8517",
   "metadata": {
    "papermill": {
     "duration": 0.009783,
     "end_time": "2022-08-23T19:23:09.383094",
     "exception": false,
     "start_time": "2022-08-23T19:23:09.373311",
     "status": "completed"
    },
    "tags": []
   },
   "source": [
    "> We generate the possible scatterplots:"
   ]
  },
  {
   "cell_type": "code",
   "execution_count": 11,
   "id": "5cf392ac",
   "metadata": {
    "_kg_hide-input": true,
    "execution": {
     "iopub.execute_input": "2022-08-23T19:23:09.404723Z",
     "iopub.status.busy": "2022-08-23T19:23:09.404278Z",
     "iopub.status.idle": "2022-08-23T19:23:09.776908Z",
     "shell.execute_reply": "2022-08-23T19:23:09.775621Z"
    },
    "papermill": {
     "duration": 0.386585,
     "end_time": "2022-08-23T19:23:09.779594",
     "exception": false,
     "start_time": "2022-08-23T19:23:09.393009",
     "status": "completed"
    },
    "tags": []
   },
   "outputs": [
    {
     "data": {
      "text/plain": [
       "<Figure size 720x576 with 0 Axes>"
      ]
     },
     "metadata": {},
     "output_type": "display_data"
    },
    {
     "data": {
      "image/png": "[encoded data removed]",
      "text/plain": [
       "<Figure size 921.6x633.6 with 1 Axes>"
      ]
     },
     "metadata": {
      "needs_background": "light"
     },
     "output_type": "display_data"
    }
   ],
   "source": [
    "import matplotlib.pyplot as plt\n",
    "from numpy import sqrt \n",
    "\n",
    "phi = (1+sqrt(5))/2\n",
    "\n",
    "plt.style.use('seaborn-poster')\n",
    "plt.figure(figsize = (10,8))\n",
    "\n",
    "x1 = df['m'].values.tolist()\n",
    "y1 = df['D_hig'].values.tolist()\n",
    "\n",
    "x2 = df['m_mean'].values.tolist()\n",
    "y2 = df['D_hig_mean'].values.tolist()\n",
    "sigma  = df['std_D_hig']\n",
    "\n",
    "n1 = ['(a,e)',   '(a,i)',  '(a,o)',  '(a,u)' ,\n",
    "      '(e,i)', '(e,o)', '(e,u)', \n",
    "      '(o,i)', '(i,u)', \n",
    "      '(o,u)']\n",
    "n2 = n1\n",
    "\n",
    "fig, ax = plt.subplots()\n",
    "\n",
    "plt.axhline(y = 1.5, color = 'g', linewidth = 1)\n",
    "\n",
    "ax.scatter(x1, y1, marker = 'o', color='orange')\n",
    "(_, caps, _) = plt.errorbar(x2, y2, sigma, linestyle='None', marker='^', capsize=10, elinewidth=1)\n",
    "for cap in caps:\n",
    "    cap.set_color('red')\n",
    "    cap.set_markeredgewidth(1)\n",
    "\n",
    "\n",
    "for i, txt in enumerate(n1):\n",
    "    ax.annotate(txt, (x1[i], y1[i]))\n",
    "\n",
    "for i, txt in enumerate(n2):\n",
    "    ax.annotate(txt, (x2[i], y2[i]))\n",
    "\n",
    "plt.title(\"Sherlock: Scatter plot D vs m_fibo\")\n",
    "plt.xlabel(\"m\")\n",
    "plt.ylabel(\"D\")\n",
    "plt.show()"
   ]
  },
  {
   "cell_type": "code",
   "execution_count": 12,
   "id": "ce29af35",
   "metadata": {
    "_kg_hide-input": true,
    "execution": {
     "iopub.execute_input": "2022-08-23T19:23:09.803133Z",
     "iopub.status.busy": "2022-08-23T19:23:09.802669Z",
     "iopub.status.idle": "2022-08-23T19:23:10.172693Z",
     "shell.execute_reply": "2022-08-23T19:23:10.171283Z"
    },
    "papermill": {
     "duration": 0.385884,
     "end_time": "2022-08-23T19:23:10.176352",
     "exception": false,
     "start_time": "2022-08-23T19:23:09.790468",
     "status": "completed"
    },
    "tags": []
   },
   "outputs": [
    {
     "data": {
      "text/plain": [
       "<Figure size 720x576 with 0 Axes>"
      ]
     },
     "metadata": {},
     "output_type": "display_data"
    },
    {
     "data": {
      "image/png": "[encoded data removed]",
      "text/plain": [
       "<Figure size 921.6x633.6 with 1 Axes>"
      ]
     },
     "metadata": {
      "needs_background": "light"
     },
     "output_type": "display_data"
    }
   ],
   "source": [
    "import matplotlib.pyplot as plt\n",
    "\n",
    "plt.style.use('seaborn-poster')\n",
    "plt.figure(figsize = (10,8))\n",
    "\n",
    "x1 = df['DFA'].values.tolist()\n",
    "y1 = df['D_hig'].values.tolist()\n",
    "\n",
    "x2 = df['DFA_mean'].values.tolist()\n",
    "y2 = df['D_hig_mean'].values.tolist()\n",
    "sigma  = df['std_D_hig']\n",
    "\n",
    "n1 = ['(a,e)',   '(a,i)',  '(a,o)',  '(a,u)' ,\n",
    "      '(e,i)', '(e,o)', '(e,u)', \n",
    "      '(o,i)', '(i,u)', \n",
    "      '(o,u)']\n",
    "n2 = n1\n",
    "\n",
    "fig, ax = plt.subplots()\n",
    "plt.axvline(x = 1.5, color = 'g', linewidth = 1)\n",
    "plt.axhline(y = 1.5, color = 'g', linewidth = 1)\n",
    "ax.scatter(x1, y1, marker = 'o', color='orange')\n",
    "        # ax.scatter(x2, y2, marker = 'x')\n",
    "(_, caps, _) = plt.errorbar(x2, y2, sigma, linestyle='None', marker='^', capsize=10, elinewidth=1)\n",
    "for cap in caps:\n",
    "    cap.set_color('red')\n",
    "    cap.set_markeredgewidth(1)\n",
    "\n",
    "\n",
    "for i, txt in enumerate(n1):\n",
    "    ax.annotate(txt, (x1[i], y1[i]))\n",
    "\n",
    "for i, txt in enumerate(n2):\n",
    "    ax.annotate(txt, (x2[i], y2[i]))\n",
    "\n",
    "plt.title(\"Sherlock: Scatter plot m_fibo vs D\")\n",
    "plt.xlabel(\"DFA\")\n",
    "plt.ylabel(\"D\")\n",
    "plt.show()"
   ]
  },
  {
   "cell_type": "code",
   "execution_count": 13,
   "id": "1c76fd02",
   "metadata": {
    "_kg_hide-input": true,
    "execution": {
     "iopub.execute_input": "2022-08-23T19:23:10.202720Z",
     "iopub.status.busy": "2022-08-23T19:23:10.201967Z",
     "iopub.status.idle": "2022-08-23T19:23:10.567693Z",
     "shell.execute_reply": "2022-08-23T19:23:10.566336Z"
    },
    "papermill": {
     "duration": 0.381473,
     "end_time": "2022-08-23T19:23:10.570433",
     "exception": false,
     "start_time": "2022-08-23T19:23:10.188960",
     "status": "completed"
    },
    "tags": []
   },
   "outputs": [
    {
     "data": {
      "text/plain": [
       "<Figure size 720x576 with 0 Axes>"
      ]
     },
     "metadata": {},
     "output_type": "display_data"
    },
    {
     "data": {
      "image/png": "[encoded data removed]",
      "text/plain": [
       "<Figure size 921.6x633.6 with 1 Axes>"
      ]
     },
     "metadata": {
      "needs_background": "light"
     },
     "output_type": "display_data"
    }
   ],
   "source": [
    "import matplotlib.pyplot as plt\n",
    "\n",
    "plt.style.use('seaborn-poster')\n",
    "plt.figure(figsize = (10,8))\n",
    "\n",
    "x1 = df['DFA'].values.tolist()\n",
    "y1 = df['m'].values.tolist()\n",
    "\n",
    "x2 = df['DFA_mean'].values.tolist()\n",
    "y2 = df['m_mean'].values.tolist()\n",
    "sigma  = df['std_m']\n",
    "\n",
    "n1 = ['(a,e)',   '(a,i)',  '(a,o)',  '(a,u)' ,\n",
    "      '(e,i)', '(e,o)', '(e,u)', \n",
    "      '(o,i)', '(i,u)', \n",
    "      '(o,u)']\n",
    "n2 = n1\n",
    "\n",
    "fig, ax = plt.subplots()\n",
    "\n",
    "plt.axvline(x = 1.5, color = 'g', linewidth = 1)\n",
    "\n",
    "ax.scatter(x1, y1, marker = 'o', color='orange')\n",
    "        # ax.scatter(x2, y2, marker = 'x')\n",
    "(_, caps, _) = plt.errorbar(x2, y2, sigma, linestyle='None', marker='^', capsize=10, elinewidth=1)\n",
    "for cap in caps:\n",
    "    cap.set_color('red')\n",
    "    cap.set_markeredgewidth(1)\n",
    "\n",
    "for i, txt in enumerate(n1):\n",
    "    ax.annotate(txt, (x1[i], y1[i]))\n",
    "\n",
    "for i, txt in enumerate(n2):\n",
    "    ax.annotate(txt, (x2[i], y2[i]))\n",
    "\n",
    "plt.title(\"Sherlock: Scatter plot m_fibo vs D\")\n",
    "plt.xlabel(\"DFA\")\n",
    "plt.ylabel(\"m_fibo\")\n",
    "plt.show()"
   ]
  },
  {
   "cell_type": "markdown",
   "id": "47bfa5f7",
   "metadata": {
    "papermill": {
     "duration": 0.012505,
     "end_time": "2022-08-23T19:23:10.595815",
     "exception": false,
     "start_time": "2022-08-23T19:23:10.583310",
     "status": "completed"
    },
    "tags": []
   },
   "source": [
    "> We see that for each case, the original text differs from the synthetically generated text. So it is possible to determine which text is the one that has been written according to the grammatical rules of the language.\n",
    ">\n",
    "> It is observed that the synthetically generated text tends to values $D = 1.5$ and $\\alpha = 1.5$ , which corresponds to quantities close to the fractal dimension of a Brownian movement, and DFA of a Brownian noise respectively. This makes sense as it indicates totally random text. Also the original text tends to move away from these values revealing the global grammatical structure of the text"
   ]
  }
 ],
 "metadata": {
  "kernelspec": {
   "display_name": "Python 3",
   "language": "python",
   "name": "python3"
  },
  "language_info": {
   "codemirror_mode": {
    "name": "ipython",
    "version": 3
   },
   "file_extension": ".py",
   "mimetype": "text/x-python",
   "name": "python",
   "nbconvert_exporter": "python",
   "pygments_lexer": "ipython3",
   "version": "3.7.12"
  },
  "papermill": {
   "default_parameters": {},
   "duration": 46.033947,
   "end_time": "2022-08-23T19:23:11.431667",
   "environment_variables": {},
   "exception": null,
   "input_path": "__notebook__.ipynb",
   "output_path": "__notebook__.ipynb",
   "parameters": {},
   "start_time": "2022-08-23T19:22:25.397720",
   "version": "2.3.4"
  }
 },
 "nbformat": 4,
 "nbformat_minor": 5
}
