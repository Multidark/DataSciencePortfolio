{
 "cells": [
  {
   "cell_type": "markdown",
   "id": "d1b433a7",
   "metadata": {
    "papermill": {
     "duration": 0.005468,
     "end_time": "2022-08-14T18:55:37.259090",
     "exception": false,
     "start_time": "2022-08-14T18:55:37.253622",
     "status": "completed"
    },
    "tags": []
   },
   "source": [
    "> # Characterization of Written Texts by Fiboancci Transformation.\n",
    "> \n",
    "> @aut: Jorge Adán G.\n",
    ">     \n",
    "> ref: Alexis Monnerot-Dumaine (2009). The Fibonacci Word fractal. Archive ouverte HAL. France (see more at https://en.wikipedia.org/wiki/Fibonacci_word).\n",
    ">\n",
    ">In this document we are going to build the general Fibonacci word $S_n$ shown in the Wikipedia article and its cutting sequence (see more about this in the reference). \n",
    ">Thereafter we will use the same algorithm for the construction of cutting sequences for the binary sequence from written texts (by some suitable association rule) in order to obtain a characterization as a function of the equation of the cutting sequence."
   ]
  },
  {
   "cell_type": "markdown",
   "id": "5e5828c3",
   "metadata": {
    "papermill": {
     "duration": 0.004284,
     "end_time": "2022-08-14T18:55:37.268051",
     "exception": false,
     "start_time": "2022-08-14T18:55:37.263767",
     "status": "completed"
    },
    "tags": []
   },
   "source": [
    "1. First we get the nth term of the Fibonacci words using the definition:\n",
    "(I am testing the program for the particular case of s5 to verify that the program works)"
   ]
  },
  {
   "cell_type": "code",
   "execution_count": 1,
   "id": "25f5263e",
   "metadata": {
    "execution": {
     "iopub.execute_input": "2022-08-14T18:55:37.278951Z",
     "iopub.status.busy": "2022-08-14T18:55:37.278605Z",
     "iopub.status.idle": "2022-08-14T18:55:37.289736Z",
     "shell.execute_reply": "2022-08-14T18:55:37.288738Z"
    },
    "papermill": {
     "duration": 0.018832,
     "end_time": "2022-08-14T18:55:37.291566",
     "exception": false,
     "start_time": "2022-08-14T18:55:37.272734",
     "status": "completed"
    },
    "tags": []
   },
   "outputs": [
    {
     "name": "stdout",
     "output_type": "stream",
     "text": [
      "0100101001001\n"
     ]
    }
   ],
   "source": [
    "def fibo_word(n):\n",
    "    sn_1 = \"0\"\n",
    "    sn = \"01\"\n",
    "\n",
    "    for i in range(2, n + 1):\n",
    "        tmp = sn\n",
    "        sn = sn + sn_1\n",
    "        sn_1 = tmp\n",
    "    return sn\n",
    "\n",
    "s5 = fibo_word(5)\n",
    "print(s5)"
   ]
  },
  {
   "cell_type": "markdown",
   "id": "ec37f6d5",
   "metadata": {
    "papermill": {
     "duration": 0.004625,
     "end_time": "2022-08-14T18:55:37.301218",
     "exception": false,
     "start_time": "2022-08-14T18:55:37.296593",
     "status": "completed"
    },
    "tags": []
   },
   "source": [
    "> Effectively it is $S_5 = 0100101001001$ shown in the bibliography."
   ]
  },
  {
   "cell_type": "markdown",
   "id": "1a2210f4",
   "metadata": {
    "papermill": {
     "duration": 0.004904,
     "end_time": "2022-08-14T18:55:37.310877",
     "exception": false,
     "start_time": "2022-08-14T18:55:37.305973",
     "status": "completed"
    },
    "tags": []
   },
   "source": [
    "> 2. Now we write a function that takes a binary sequence and returns the points that are on the cutting axes.\n",
    ">\n",
    "> The Algorithm is as follows:\n",
    ">\n",
    "> Given the starting position on the grid (xy plane): $(𝑎_0,𝑏_0)=(0,0) $ and a binary string:\n",
    ">\n",
    "> * If the ith digit of the string is 0: $(𝑥_i,𝑦_i)=(𝑎_{𝑖−1}),𝑏_{𝑖−1})+(1,𝛾)$. The position is updated to: $ (𝑎_i,𝑏_i) =(𝑎_{𝑖−1},𝑏_{𝑖−1})+(1,0) $\n",
    ">\n",
    "> * If the ith digit of the string is 1: $ (𝑥_𝑖,𝑦_𝑖)=(𝑎_{𝑖−1},𝑏_{𝑖−1})+(𝛾,1) $ Position is updated to: $ (𝑎_𝑖,𝑏_𝑖)=(𝑎_{𝑖−1},𝑏_{𝑖−1})+(0,1)$.\n",
    ">\n",
    "> Here 𝛾 is a random number between zero and one. \n",
    "> (Note: I found this algorithm by plotting the points by hand for the case $S_5$ on a grid.)\n",
    ">\n",
    ">Implementing this we obtain $ \\{(x_i, y_i)\\}$ for $i = 1, 2, ..., L$ where $L$ is the lenght of the binary sequence."
   ]
  },
  {
   "cell_type": "code",
   "execution_count": 2,
   "id": "52d77120",
   "metadata": {
    "_kg_hide-input": true,
    "execution": {
     "iopub.execute_input": "2022-08-14T18:55:37.322261Z",
     "iopub.status.busy": "2022-08-14T18:55:37.321513Z",
     "iopub.status.idle": "2022-08-14T18:55:37.327652Z",
     "shell.execute_reply": "2022-08-14T18:55:37.327062Z"
    },
    "papermill": {
     "duration": 0.013757,
     "end_time": "2022-08-14T18:55:37.329459",
     "exception": false,
     "start_time": "2022-08-14T18:55:37.315702",
     "status": "completed"
    },
    "tags": []
   },
   "outputs": [],
   "source": [
    "def bin_to_cords(binary):\n",
    "    import random\n",
    "    import numpy as np\n",
    "    \n",
    "    x0 = 0\n",
    "    y0 = 0\n",
    "    x = []\n",
    "    y = []\n",
    "    for k in binary:\n",
    "        if k == \"0\":\n",
    "            temp = random.uniform(0, 1)\n",
    "            \n",
    "            x0 += 1\n",
    "            y0 += temp\n",
    "            x.append(x0)\n",
    "            y.append(y0)\n",
    "            y0 -= temp\n",
    "        else:\n",
    "            temp = random.uniform(0, 1)\n",
    "    \n",
    "            x0 += temp\n",
    "            y0 += 1\n",
    "            x.append(x0)\n",
    "            y.append(y0)\n",
    "            x0 -= temp\n",
    "    \n",
    "    x = np.array(x)\n",
    "    y = np.array(y)\n",
    "    \n",
    "    return x, y"
   ]
  },
  {
   "cell_type": "markdown",
   "id": "57ba65ec",
   "metadata": {
    "papermill": {
     "duration": 0.004441,
     "end_time": "2022-08-14T18:55:37.338939",
     "exception": false,
     "start_time": "2022-08-14T18:55:37.334498",
     "status": "completed"
    },
    "tags": []
   },
   "source": [
    "> Let us confirm the performance of this algorithm for a small case, for example $S_5 = 0100101001001$"
   ]
  },
  {
   "cell_type": "code",
   "execution_count": 3,
   "id": "7a91e99e",
   "metadata": {
    "execution": {
     "iopub.execute_input": "2022-08-14T18:55:37.350492Z",
     "iopub.status.busy": "2022-08-14T18:55:37.349885Z",
     "iopub.status.idle": "2022-08-14T18:55:37.353784Z",
     "shell.execute_reply": "2022-08-14T18:55:37.353125Z"
    },
    "papermill": {
     "duration": 0.011905,
     "end_time": "2022-08-14T18:55:37.355372",
     "exception": false,
     "start_time": "2022-08-14T18:55:37.343467",
     "status": "completed"
    },
    "tags": []
   },
   "outputs": [],
   "source": [
    "import numpy as np\n",
    "import random\n",
    "\n",
    "random.seed(10)\n",
    "s5 = fibo_word(5)\n",
    "binary = s5\n",
    "x, y = bin_to_cords(binary)"
   ]
  },
  {
   "cell_type": "markdown",
   "id": "01d08ecc",
   "metadata": {
    "papermill": {
     "duration": 0.004476,
     "end_time": "2022-08-14T18:55:37.364780",
     "exception": false,
     "start_time": "2022-08-14T18:55:37.360304",
     "status": "completed"
    },
    "tags": []
   },
   "source": [
    "We obtain the linear regression for the points in the cutting sequence:"
   ]
  },
  {
   "cell_type": "code",
   "execution_count": 4,
   "id": "0aa914a3",
   "metadata": {
    "execution": {
     "iopub.execute_input": "2022-08-14T18:55:37.376001Z",
     "iopub.status.busy": "2022-08-14T18:55:37.375543Z",
     "iopub.status.idle": "2022-08-14T18:55:38.075377Z",
     "shell.execute_reply": "2022-08-14T18:55:38.074460Z"
    },
    "papermill": {
     "duration": 0.708216,
     "end_time": "2022-08-14T18:55:38.077797",
     "exception": false,
     "start_time": "2022-08-14T18:55:37.369581",
     "status": "completed"
    },
    "tags": []
   },
   "outputs": [
    {
     "name": "stdout",
     "output_type": "stream",
     "text": [
      "m =  0.5834417877826819\n",
      "b =  0.10342922133377863\n"
     ]
    }
   ],
   "source": [
    "import scipy\n",
    "from scipy import stats\n",
    "\n",
    "alpha = scipy.stats.linregress(x, y)\n",
    "m = alpha[0]\n",
    "b = alpha[1]\n",
    "print('m = ', m)\n",
    "print('b = ', b)"
   ]
  },
  {
   "cell_type": "code",
   "execution_count": 5,
   "id": "9fdc3741",
   "metadata": {
    "_kg_hide-input": true,
    "execution": {
     "iopub.execute_input": "2022-08-14T18:55:38.089248Z",
     "iopub.status.busy": "2022-08-14T18:55:38.088952Z",
     "iopub.status.idle": "2022-08-14T18:55:38.535580Z",
     "shell.execute_reply": "2022-08-14T18:55:38.534296Z"
    },
    "papermill": {
     "duration": 0.45499,
     "end_time": "2022-08-14T18:55:38.537836",
     "exception": false,
     "start_time": "2022-08-14T18:55:38.082846",
     "status": "completed"
    },
    "tags": []
   },
   "outputs": [
    {
     "data": {
      "image/png": "[encoded data removed]",
      "text/plain": [
       "<Figure size 720x576 with 1 Axes>"
      ]
     },
     "metadata": {
      "needs_background": "light"
     },
     "output_type": "display_data"
    },
    {
     "data": {
      "image/png": "[encoded data removed]",
      "text/plain": [
       "<Figure size 720x576 with 1 Axes>"
      ]
     },
     "metadata": {
      "needs_background": "light"
     },
     "output_type": "display_data"
    }
   ],
   "source": [
    "from matplotlib import pyplot as plt\n",
    "from numpy import sqrt \n",
    "\n",
    "phi = (1+sqrt(5))/2\n",
    "\n",
    "# Fig. 1\n",
    "\n",
    "plt.style.use('seaborn-poster')\n",
    "plt.figure(figsize = (10,8))\n",
    "\n",
    "plt.plot(x,y, 'o')\n",
    "plt.plot(x, m*x + b, 'r')\n",
    "\n",
    "plt.title('Linear regression for Fibo Word: S5')\n",
    "plt.xlabel('x axis')\n",
    "plt.ylabel('y axis')\n",
    "plt.grid()\n",
    "\n",
    "plt.show()\n",
    "\n",
    "# Fig. 2\n",
    "\n",
    "plt.figure(figsize = (10,8))\n",
    "plt.plot(x, 1/phi*x, 'b')\n",
    "plt.plot(x, m*x + b, 'r')\n",
    "\n",
    "plt.legend(['Theoretical', 'Experimental (Linear regression)'])\n",
    "\n",
    "plt.title('Comparison')\n",
    "plt.xlabel('x axis')\n",
    "plt.ylabel('y axis')\n",
    "plt.grid()\n",
    "\n",
    "\n",
    "plt.show()"
   ]
  },
  {
   "cell_type": "markdown",
   "id": "d5bd8fe2",
   "metadata": {
    "papermill": {
     "duration": 0.005668,
     "end_time": "2022-08-14T18:55:38.549872",
     "exception": false,
     "start_time": "2022-08-14T18:55:38.544204",
     "status": "completed"
    },
    "tags": []
   },
   "source": [
    "> For this case of a small number of elements we can visualize the line obtained (in red), there is a significant difference with respect to the theoretical line (in blue).\n",
    ">\n",
    "> In the bibliography we observe that to obtain the exact value of the inverse of the golden ratio it is necessary to use the fibonacci word in the limit when $n \\rightarrow \\infty$. \n",
    "> \n",
    "> Since we cannot compute for the infinite lenght Fibonacci word, we will test for $S_{20}$, which is a binary sequence of 17,711 elements. We get the following results:"
   ]
  },
  {
   "cell_type": "code",
   "execution_count": 6,
   "id": "03909c38",
   "metadata": {
    "_kg_hide-input": true,
    "execution": {
     "iopub.execute_input": "2022-08-14T18:55:38.563941Z",
     "iopub.status.busy": "2022-08-14T18:55:38.563413Z",
     "iopub.status.idle": "2022-08-14T18:55:38.582952Z",
     "shell.execute_reply": "2022-08-14T18:55:38.581910Z"
    },
    "papermill": {
     "duration": 0.030262,
     "end_time": "2022-08-14T18:55:38.586061",
     "exception": false,
     "start_time": "2022-08-14T18:55:38.555799",
     "status": "completed"
    },
    "tags": []
   },
   "outputs": [
    {
     "name": "stdout",
     "output_type": "stream",
     "text": [
      "m = 0.6180336651634829\n",
      "b = 0.0022004837192071136\n",
      "\n",
      "Considering theoretical slope m =  0.6180339887498948\n",
      "we obtain: approximation error for the slope = 0.0000523574 %\n"
     ]
    }
   ],
   "source": [
    "binary = fibo_word(20)\n",
    "\n",
    "x, y = bin_to_cords(binary)\n",
    "\n",
    "alpha = scipy.stats.linregress(x, y)\n",
    "m = alpha[0]\n",
    "b = alpha[1]\n",
    "\n",
    "err = abs(m-1/phi)/(1/phi)\n",
    "decimalperc = '{:.10f}'.format(float(err*100))\n",
    "\n",
    "print('m =', m)\n",
    "print('b =', b)\n",
    "print('\\nConsidering theoretical slope m = ', 1/phi)\n",
    "print('we obtain: approximation error for the slope = ' + decimalperc + ' %')\n"
   ]
  },
  {
   "cell_type": "markdown",
   "id": "19b53fce",
   "metadata": {
    "papermill": {
     "duration": 0.005791,
     "end_time": "2022-08-14T18:55:38.598082",
     "exception": false,
     "start_time": "2022-08-14T18:55:38.592291",
     "status": "completed"
    },
    "tags": []
   },
   "source": [
    "> We obtained a slope that is close to the inverse of the golden ratio, it is to be expected that as the length of the binary increases we will get closer to the value of the inverse of the golden ratio, as well as the intercept closer to zero. "
   ]
  },
  {
   "cell_type": "markdown",
   "id": "db1be8b0",
   "metadata": {
    "papermill": {
     "duration": 0.005545,
     "end_time": "2022-08-14T18:55:38.609345",
     "exception": false,
     "start_time": "2022-08-14T18:55:38.603800",
     "status": "completed"
    },
    "tags": []
   },
   "source": [
    "# Text analysis"
   ]
  },
  {
   "cell_type": "markdown",
   "id": "14a9aebe",
   "metadata": {
    "papermill": {
     "duration": 0.005632,
     "end_time": "2022-08-14T18:55:38.620780",
     "exception": false,
     "start_time": "2022-08-14T18:55:38.615148",
     "status": "completed"
    },
    "tags": []
   },
   "source": [
    ">3. We are ready to define a rule to obtain a binary sequence from a typed text.\n",
    ">A simple rule to obtain the binary code is to analyze a pair of vowels $(v_0, v_1)$, so that we associate:\n",
    ">\n",
    ">     $ v_0 \\rightarrow 0 $\n",
    ">\n",
    ">     $ v_1 \\rightarrow 1 $\n",
    ">\n",
    ">For example, if we consider \n",
    ">     $ i \\rightarrow 0 $ and\n",
    ">     $ e \\rightarrow 1 $,\n",
    ">the sentence:\n",
    ">\n",
    "> 'This is an example' $\\rightarrow 0011$ \n",
    ">\n",
    ">Note that we are ignoring whether or not is a capital letter. We can implement this straightforward:\n"
   ]
  },
  {
   "cell_type": "code",
   "execution_count": 7,
   "id": "c27d4c0a",
   "metadata": {
    "execution": {
     "iopub.execute_input": "2022-08-14T18:55:38.634871Z",
     "iopub.status.busy": "2022-08-14T18:55:38.633696Z",
     "iopub.status.idle": "2022-08-14T18:55:38.639048Z",
     "shell.execute_reply": "2022-08-14T18:55:38.638167Z"
    },
    "papermill": {
     "duration": 0.014767,
     "end_time": "2022-08-14T18:55:38.641320",
     "exception": false,
     "start_time": "2022-08-14T18:55:38.626553",
     "status": "completed"
    },
    "tags": []
   },
   "outputs": [],
   "source": [
    "def text_to_bin(text, c1, c2):\n",
    "    myBinary = ''\n",
    "    \n",
    "    for i in text:\n",
    "        if i.lower() == c1:\n",
    "            myBinary += '0'\n",
    "        elif i.lower() == c2:\n",
    "            myBinary += '1'\n",
    "            \n",
    "    return myBinary"
   ]
  },
  {
   "cell_type": "markdown",
   "id": "f11e3a3f",
   "metadata": {
    "papermill": {
     "duration": 0.005921,
     "end_time": "2022-08-14T18:55:38.653404",
     "exception": false,
     "start_time": "2022-08-14T18:55:38.647483",
     "status": "completed"
    },
    "tags": []
   },
   "source": [
    ">Using the following text from Project Gutenberg: Sherlock Holmes, from Arthur Conan Doyle:\n",
    "\n",
    "> * Number of words: 95584\n",
    "> * Number of characters: 562280\n",
    "\n",
    ">And using the functions that we constructed before:"
   ]
  },
  {
   "cell_type": "code",
   "execution_count": 8,
   "id": "209d5e5a",
   "metadata": {
    "execution": {
     "iopub.execute_input": "2022-08-14T18:55:38.666680Z",
     "iopub.status.busy": "2022-08-14T18:55:38.666140Z",
     "iopub.status.idle": "2022-08-14T18:55:38.721961Z",
     "shell.execute_reply": "2022-08-14T18:55:38.721082Z"
    },
    "papermill": {
     "duration": 0.064617,
     "end_time": "2022-08-14T18:55:38.723884",
     "exception": false,
     "start_time": "2022-08-14T18:55:38.659267",
     "status": "completed"
    },
    "tags": []
   },
   "outputs": [
    {
     "name": "stdout",
     "output_type": "stream",
     "text": [
      "Number of words:  95584\n",
      "Number of characters:  562280\n",
      "\n",
      "\n",
      "The Adventures of Sherlock Holmes\n",
      "\n",
      "by Arthur Conan Doyle\n",
      "\n",
      "\n",
      "Contents\n",
      "\n",
      "   I.     A Scandal in Bohemia\n",
      "   II.    The Red-Headed League\n",
      "   III.   A Case of Identity\n",
      "   IV.    The Boscombe Valley Mystery\n",
      "   V.     The Five Orange Pips\n",
      "   VI.    The Man with the Twisted Lip\n",
      "   VII.   The Adventure of the Blue Carbuncle\n",
      "   VIII.  The Adventure of the Speckled Band\n",
      "   IX.    The Adventure of the Engineer’s Thumb\n",
      "   X.     The Adventure of the Noble Bachelor\n",
      "   XI.    The Adventure of the Beryl Coronet\n",
      "   XII.   The Adventure of the Copper Beeches\n",
      "\n",
      "\n",
      "\n",
      "\n",
      "I. A SCANDAL IN BOHEMIA\n",
      "\n",
      "\n",
      "I.\n",
      "\n",
      "To Sherlock Holmes she is always _the_ woman. I have seldom heard him\n",
      "mention her under any other name. In his eyes she eclipses and\n",
      "predominates the whole of her sex. It was not that he felt any emotion\n",
      "akin to love for Irene Adler. All emotions, and that one particularly,\n",
      "were abhorrent to his cold, precise but admirably balanced mind. He\n",
      "was, I take it, the most perfect reasoning and observing machine that\n",
      "the worl\n"
     ]
    }
   ],
   "source": [
    "# First 1000 text characters:\n",
    "\n",
    "text_name = '../input/sherlock-holmes-txt/Sherlock.txt'\n",
    "\n",
    "with open(text_name, encoding='utf8') as f:\n",
    "    text = f.read()\n",
    "\n",
    "print('Number of words: ', len(list(text.split(' '))))\n",
    "print('Number of characters: ', len(text))\n",
    "print('\\n')\n",
    "\n",
    "print(text[:1000])"
   ]
  },
  {
   "cell_type": "markdown",
   "id": "c2c36e9b",
   "metadata": {
    "papermill": {
     "duration": 0.005935,
     "end_time": "2022-08-14T18:55:38.736033",
     "exception": false,
     "start_time": "2022-08-14T18:55:38.730098",
     "status": "completed"
    },
    "tags": []
   },
   "source": [
    "> We can analyse all the possible cases:\n",
    ">\n",
    "> ▪ (a,e), (a,i), (a,o), (a,u)\n",
    ">\n",
    "> ▪ (e,i), (e,o), (e,u)\n",
    ">\n",
    "> ▪ (i,o), (i,u)\n",
    ">\n",
    "> ▪ (o,u)\n",
    ">\n",
    "> I will work in the first case only, considering that the comparison (a,e) = (e,a), taking the case where 0 < m < 1, since we are comparing with $1/\\Phi$ "
   ]
  },
  {
   "cell_type": "code",
   "execution_count": 9,
   "id": "587d9615",
   "metadata": {
    "execution": {
     "iopub.execute_input": "2022-08-14T18:55:38.750007Z",
     "iopub.status.busy": "2022-08-14T18:55:38.749481Z",
     "iopub.status.idle": "2022-08-14T18:55:38.866598Z",
     "shell.execute_reply": "2022-08-14T18:55:38.865396Z"
    },
    "papermill": {
     "duration": 0.127175,
     "end_time": "2022-08-14T18:55:38.869413",
     "exception": false,
     "start_time": "2022-08-14T18:55:38.742238",
     "status": "completed"
    },
    "tags": []
   },
   "outputs": [
    {
     "name": "stdout",
     "output_type": "stream",
     "text": [
      "0001011011010100000000100110000010000000100000010000001000000010100100010011000010100001010110001001\n"
     ]
    }
   ],
   "source": [
    "c1 = 'e'\n",
    "c2 = 'o'\n",
    "binary = text_to_bin(text, c1, c2)\n",
    "print(binary[:100])"
   ]
  },
  {
   "cell_type": "markdown",
   "id": "f3199663",
   "metadata": {
    "papermill": {
     "duration": 0.006072,
     "end_time": "2022-08-14T18:55:38.881931",
     "exception": false,
     "start_time": "2022-08-14T18:55:38.875859",
     "status": "completed"
    },
    "tags": []
   },
   "source": [
    "> We compute for 100 random cases and get the mean for $m$ and $b$. We get the values:"
   ]
  },
  {
   "cell_type": "code",
   "execution_count": 10,
   "id": "97b83d4c",
   "metadata": {
    "_kg_hide-input": true,
    "execution": {
     "iopub.execute_input": "2022-08-14T18:55:38.896088Z",
     "iopub.status.busy": "2022-08-14T18:55:38.895794Z",
     "iopub.status.idle": "2022-08-14T18:55:45.267688Z",
     "shell.execute_reply": "2022-08-14T18:55:45.266626Z"
    },
    "papermill": {
     "duration": 6.381298,
     "end_time": "2022-08-14T18:55:45.269596",
     "exception": false,
     "start_time": "2022-08-14T18:55:38.888298",
     "status": "completed"
    },
    "tags": []
   },
   "outputs": [
    {
     "name": "stdout",
     "output_type": "stream",
     "text": [
      "m =  0.6269424928669786\n",
      "b =  9.875580645006266\n"
     ]
    }
   ],
   "source": [
    "from random import randint\n",
    "\n",
    "seedList = [randint(100, 1000) for p in range(0, 100)]\n",
    "mList = []\n",
    "bList = []\n",
    "\n",
    "for mySeed in seedList:\n",
    "    random.seed(mySeed)\n",
    "    x, y = bin_to_cords(binary)\n",
    "    alpha = scipy.stats.linregress(x, y)\n",
    "    m = alpha[0]\n",
    "    b = alpha[1]\n",
    "\n",
    "    mList.append(m)\n",
    "    bList.append(b)\n",
    "x, y = bin_to_cords(binary)\n",
    "\n",
    "alpha = scipy.stats.linregress(x, y)\n",
    "m = alpha[0]\n",
    "b = alpha[1]\n",
    "print('m = ', m)\n",
    "print('b = ', b)\n"
   ]
  },
  {
   "cell_type": "code",
   "execution_count": 11,
   "id": "c3bca85b",
   "metadata": {
    "_kg_hide-input": true,
    "execution": {
     "iopub.execute_input": "2022-08-14T18:55:45.283579Z",
     "iopub.status.busy": "2022-08-14T18:55:45.283259Z",
     "iopub.status.idle": "2022-08-14T18:55:45.603380Z",
     "shell.execute_reply": "2022-08-14T18:55:45.602298Z"
    },
    "papermill": {
     "duration": 0.329249,
     "end_time": "2022-08-14T18:55:45.605327",
     "exception": false,
     "start_time": "2022-08-14T18:55:45.276078",
     "status": "completed"
    },
    "tags": []
   },
   "outputs": [
    {
     "data": {
      "image/png": "[encoded data removed]",
      "text/plain": [
       "<Figure size 720x576 with 1 Axes>"
      ]
     },
     "metadata": {
      "needs_background": "light"
     },
     "output_type": "display_data"
    }
   ],
   "source": [
    "plt.figure(figsize = (10,8))\n",
    "plt.plot(x, 1/phi*x, 'b')\n",
    "plt.plot(x, m*x + b, 'r')\n",
    "\n",
    "plt.legend(['Theoretical', 'Experimental for letters: ' + c1 + ', ' + c2 + ' (Linear regression)'])\n",
    "\n",
    "plt.title('Comparison')\n",
    "plt.xlabel('x axis')\n",
    "plt.ylabel('y axis')\n",
    "plt.grid()\n",
    "\n",
    "\n",
    "plt.show()"
   ]
  },
  {
   "cell_type": "code",
   "execution_count": 12,
   "id": "78519867",
   "metadata": {
    "_kg_hide-input": true,
    "execution": {
     "iopub.execute_input": "2022-08-14T18:55:45.621105Z",
     "iopub.status.busy": "2022-08-14T18:55:45.620792Z",
     "iopub.status.idle": "2022-08-14T18:55:45.628001Z",
     "shell.execute_reply": "2022-08-14T18:55:45.626557Z"
    },
    "papermill": {
     "duration": 0.017322,
     "end_time": "2022-08-14T18:55:45.629832",
     "exception": false,
     "start_time": "2022-08-14T18:55:45.612510",
     "status": "completed"
    },
    "tags": []
   },
   "outputs": [
    {
     "name": "stdout",
     "output_type": "stream",
     "text": [
      "m = 0.6269424928669786\n",
      "b = 9.875580645006266\n",
      "\n",
      "Considering theoretical slope m =  0.6180339887498948\n",
      "we obtain Approximation error for the slope = 1.4414262450 %\n"
     ]
    }
   ],
   "source": [
    "err = abs(m-1/phi)/(1/phi)\n",
    "decimalperc = '{:.10f}'.format(float(err*100))\n",
    "\n",
    "print('m =', m)\n",
    "print('b =', b)\n",
    "print('\\nConsidering theoretical slope m = ', 1/phi)\n",
    "print('we obtain Approximation error for the slope = ' + decimalperc + ' %')"
   ]
  },
  {
   "cell_type": "markdown",
   "id": "57fe99cf",
   "metadata": {
    "papermill": {
     "duration": 0.006728,
     "end_time": "2022-08-14T18:55:45.643512",
     "exception": false,
     "start_time": "2022-08-14T18:55:45.636784",
     "status": "completed"
    },
    "tags": []
   },
   "source": [
    "There is a little difference but it is interesting that there is a link between inverse of Golden ratio. We also observe a similar behavior for the pair (e,a) in English language, and for (e, o), (i, o) in Spanish language.\n",
    "We conclude this section by commenting on cases where a proper fit may not always exist. The problem is in the limit cases in which we have a large consecutive repetition of the same digit and then a consecutive repetition of the other digit, so that points are generated on the cutting axes that generate an abrupt change. An example of these cases is when we have binary strings of the form $0000000000000111111111111$, since the linear regression will not have an adequate fit. The quantity b is different from zero here because of this aspect of the method for cutting sequence but we can see that if we shuffle the binary code and do some statistics with multiple cases we have that the b value average is indeed zero. "
   ]
  }
 ],
 "metadata": {
  "kernelspec": {
   "display_name": "Python 3",
   "language": "python",
   "name": "python3"
  },
  "language_info": {
   "codemirror_mode": {
    "name": "ipython",
    "version": 3
   },
   "file_extension": ".py",
   "mimetype": "text/x-python",
   "name": "python",
   "nbconvert_exporter": "python",
   "pygments_lexer": "ipython3",
   "version": "3.7.12"
  },
  "papermill": {
   "default_parameters": {},
   "duration": 16.041718,
   "end_time": "2022-08-14T18:55:46.273116",
   "environment_variables": {},
   "exception": null,
   "input_path": "__notebook__.ipynb",
   "output_path": "__notebook__.ipynb",
   "parameters": {},
   "start_time": "2022-08-14T18:55:30.231398",
   "version": "2.3.4"
  }
 },
 "nbformat": 4,
 "nbformat_minor": 5
}
