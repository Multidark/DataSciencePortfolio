{
 "cells": [
  {
   "cell_type": "markdown",
   "id": "14e3c32b",
   "metadata": {
    "papermill": {
     "duration": 0.005275,
     "end_time": "2022-08-16T15:51:10.841523",
     "exception": false,
     "start_time": "2022-08-16T15:51:10.836248",
     "status": "completed"
    },
    "tags": []
   },
   "source": [
    "# Natural Language Processing with Disaster Tweets\n",
    "\n",
    "The idea is to implement the TF-IDF vectorizer and Ridge classifier in order to classificate the text in every tweet."
   ]
  },
  {
   "cell_type": "code",
   "execution_count": 1,
   "id": "19489ea5",
   "metadata": {
    "execution": {
     "iopub.execute_input": "2022-08-16T15:51:10.851752Z",
     "iopub.status.busy": "2022-08-16T15:51:10.851223Z",
     "iopub.status.idle": "2022-08-16T15:51:11.967238Z",
     "shell.execute_reply": "2022-08-16T15:51:11.966303Z"
    },
    "papermill": {
     "duration": 1.124013,
     "end_time": "2022-08-16T15:51:11.969806",
     "exception": false,
     "start_time": "2022-08-16T15:51:10.845793",
     "status": "completed"
    },
    "tags": []
   },
   "outputs": [],
   "source": [
    "import numpy as np\n",
    "import pandas as pd \n",
    "from sklearn import feature_extraction, linear_model, model_selection, preprocessing"
   ]
  },
  {
   "cell_type": "code",
   "execution_count": 2,
   "id": "46e2d1df",
   "metadata": {
    "execution": {
     "iopub.execute_input": "2022-08-16T15:51:11.980938Z",
     "iopub.status.busy": "2022-08-16T15:51:11.980371Z",
     "iopub.status.idle": "2022-08-16T15:51:12.060820Z",
     "shell.execute_reply": "2022-08-16T15:51:12.058950Z"
    },
    "papermill": {
     "duration": 0.090128,
     "end_time": "2022-08-16T15:51:12.064243",
     "exception": false,
     "start_time": "2022-08-16T15:51:11.974115",
     "status": "completed"
    },
    "tags": []
   },
   "outputs": [],
   "source": [
    "trainPath = '../input/nlp-getting-started/train.csv'\n",
    "testPath = '../input/nlp-getting-started/test.csv'\n",
    "\n",
    "train_df = pd.read_csv(trainPath)\n",
    "test_df  = pd.read_csv(testPath)"
   ]
  },
  {
   "cell_type": "code",
   "execution_count": 3,
   "id": "3f75eeb9",
   "metadata": {
    "execution": {
     "iopub.execute_input": "2022-08-16T15:51:12.074766Z",
     "iopub.status.busy": "2022-08-16T15:51:12.073733Z",
     "iopub.status.idle": "2022-08-16T15:51:12.095576Z",
     "shell.execute_reply": "2022-08-16T15:51:12.094360Z"
    },
    "papermill": {
     "duration": 0.031293,
     "end_time": "2022-08-16T15:51:12.099736",
     "exception": false,
     "start_time": "2022-08-16T15:51:12.068443",
     "status": "completed"
    },
    "tags": []
   },
   "outputs": [
    {
     "data": {
      "text/html": [
       "<div>\n",
       "<style scoped>\n",
       "    .dataframe tbody tr th:only-of-type {\n",
       "        vertical-align: middle;\n",
       "    }\n",
       "\n",
       "    .dataframe tbody tr th {\n",
       "        vertical-align: top;\n",
       "    }\n",
       "\n",
       "    .dataframe thead th {\n",
       "        text-align: right;\n",
       "    }\n",
       "</style>\n",
       "<table border=\"1\" class=\"dataframe\">\n",
       "  <thead>\n",
       "    <tr style=\"text-align: right;\">\n",
       "      <th></th>\n",
       "      <th>id</th>\n",
       "      <th>keyword</th>\n",
       "      <th>location</th>\n",
       "      <th>text</th>\n",
       "      <th>target</th>\n",
       "    </tr>\n",
       "  </thead>\n",
       "  <tbody>\n",
       "    <tr>\n",
       "      <th>0</th>\n",
       "      <td>1</td>\n",
       "      <td>NaN</td>\n",
       "      <td>NaN</td>\n",
       "      <td>Our Deeds are the Reason of this #earthquake M...</td>\n",
       "      <td>1</td>\n",
       "    </tr>\n",
       "    <tr>\n",
       "      <th>1</th>\n",
       "      <td>4</td>\n",
       "      <td>NaN</td>\n",
       "      <td>NaN</td>\n",
       "      <td>Forest fire near La Ronge Sask. Canada</td>\n",
       "      <td>1</td>\n",
       "    </tr>\n",
       "    <tr>\n",
       "      <th>2</th>\n",
       "      <td>5</td>\n",
       "      <td>NaN</td>\n",
       "      <td>NaN</td>\n",
       "      <td>All residents asked to 'shelter in place' are ...</td>\n",
       "      <td>1</td>\n",
       "    </tr>\n",
       "    <tr>\n",
       "      <th>3</th>\n",
       "      <td>6</td>\n",
       "      <td>NaN</td>\n",
       "      <td>NaN</td>\n",
       "      <td>13,000 people receive #wildfires evacuation or...</td>\n",
       "      <td>1</td>\n",
       "    </tr>\n",
       "    <tr>\n",
       "      <th>4</th>\n",
       "      <td>7</td>\n",
       "      <td>NaN</td>\n",
       "      <td>NaN</td>\n",
       "      <td>Just got sent this photo from Ruby #Alaska as ...</td>\n",
       "      <td>1</td>\n",
       "    </tr>\n",
       "  </tbody>\n",
       "</table>\n",
       "</div>"
      ],
      "text/plain": [
       "   id keyword location                                               text  \\\n",
       "0   1     NaN      NaN  Our Deeds are the Reason of this #earthquake M...   \n",
       "1   4     NaN      NaN             Forest fire near La Ronge Sask. Canada   \n",
       "2   5     NaN      NaN  All residents asked to 'shelter in place' are ...   \n",
       "3   6     NaN      NaN  13,000 people receive #wildfires evacuation or...   \n",
       "4   7     NaN      NaN  Just got sent this photo from Ruby #Alaska as ...   \n",
       "\n",
       "   target  \n",
       "0       1  \n",
       "1       1  \n",
       "2       1  \n",
       "3       1  \n",
       "4       1  "
      ]
     },
     "execution_count": 3,
     "metadata": {},
     "output_type": "execute_result"
    }
   ],
   "source": [
    "train_df.head()"
   ]
  },
  {
   "cell_type": "markdown",
   "id": "4d478805",
   "metadata": {
    "papermill": {
     "duration": 0.004085,
     "end_time": "2022-08-16T15:51:12.108298",
     "exception": false,
     "start_time": "2022-08-16T15:51:12.104213",
     "status": "completed"
    },
    "tags": []
   },
   "source": [
    "# TF-IDF Vectorizer"
   ]
  },
  {
   "cell_type": "code",
   "execution_count": 4,
   "id": "a3c6d72e",
   "metadata": {
    "execution": {
     "iopub.execute_input": "2022-08-16T15:51:12.118925Z",
     "iopub.status.busy": "2022-08-16T15:51:12.118154Z",
     "iopub.status.idle": "2022-08-16T15:51:12.363250Z",
     "shell.execute_reply": "2022-08-16T15:51:12.362066Z"
    },
    "papermill": {
     "duration": 0.254174,
     "end_time": "2022-08-16T15:51:12.366704",
     "exception": false,
     "start_time": "2022-08-16T15:51:12.112530",
     "status": "completed"
    },
    "tags": []
   },
   "outputs": [],
   "source": [
    "from sklearn.feature_extraction.text import TfidfVectorizer\n",
    "\n",
    "vectorizer = feature_extraction.text.TfidfVectorizer()\n",
    "\n",
    "train_vectors = vectorizer.fit_transform(train_df[\"text\"])\n",
    "test_vectors = vectorizer.transform(test_df[\"text\"])"
   ]
  },
  {
   "cell_type": "markdown",
   "id": "167e9ede",
   "metadata": {
    "papermill": {
     "duration": 0.005893,
     "end_time": "2022-08-16T15:51:12.378802",
     "exception": false,
     "start_time": "2022-08-16T15:51:12.372909",
     "status": "completed"
    },
    "tags": []
   },
   "source": [
    "Let's see how is the score, using the fact that the metric for this competition is F1."
   ]
  },
  {
   "cell_type": "markdown",
   "id": "8efd2a5d",
   "metadata": {
    "papermill": {
     "duration": 0.005727,
     "end_time": "2022-08-16T15:51:12.390651",
     "exception": false,
     "start_time": "2022-08-16T15:51:12.384924",
     "status": "completed"
    },
    "tags": []
   },
   "source": [
    "# Model"
   ]
  },
  {
   "cell_type": "code",
   "execution_count": 5,
   "id": "487672f2",
   "metadata": {
    "execution": {
     "iopub.execute_input": "2022-08-16T15:51:12.404924Z",
     "iopub.status.busy": "2022-08-16T15:51:12.404029Z",
     "iopub.status.idle": "2022-08-16T15:51:12.532035Z",
     "shell.execute_reply": "2022-08-16T15:51:12.530841Z"
    },
    "papermill": {
     "duration": 0.138792,
     "end_time": "2022-08-16T15:51:12.535550",
     "exception": false,
     "start_time": "2022-08-16T15:51:12.396758",
     "status": "completed"
    },
    "tags": []
   },
   "outputs": [
    {
     "data": {
      "text/plain": [
       "array([0.63366337, 0.6122449 , 0.68442211])"
      ]
     },
     "execution_count": 5,
     "metadata": {},
     "output_type": "execute_result"
    }
   ],
   "source": [
    "clf = linear_model.RidgeClassifier()\n",
    "\n",
    "scores = model_selection.cross_val_score(clf, train_vectors, train_df[\"target\"], cv=3, scoring=\"f1\")\n",
    "scores"
   ]
  },
  {
   "cell_type": "markdown",
   "id": "9b34ffed",
   "metadata": {
    "papermill": {
     "duration": 0.007032,
     "end_time": "2022-08-16T15:51:12.549594",
     "exception": false,
     "start_time": "2022-08-16T15:51:12.542562",
     "status": "completed"
    },
    "tags": []
   },
   "source": [
    "The score is around 0.65, which is not bad. Let's fit the data."
   ]
  },
  {
   "cell_type": "code",
   "execution_count": 6,
   "id": "06ffcc7a",
   "metadata": {
    "execution": {
     "iopub.execute_input": "2022-08-16T15:51:12.565302Z",
     "iopub.status.busy": "2022-08-16T15:51:12.564776Z",
     "iopub.status.idle": "2022-08-16T15:51:12.622566Z",
     "shell.execute_reply": "2022-08-16T15:51:12.621346Z"
    },
    "papermill": {
     "duration": 0.069699,
     "end_time": "2022-08-16T15:51:12.626147",
     "exception": false,
     "start_time": "2022-08-16T15:51:12.556448",
     "status": "completed"
    },
    "tags": []
   },
   "outputs": [
    {
     "data": {
      "text/plain": [
       "RidgeClassifier()"
      ]
     },
     "execution_count": 6,
     "metadata": {},
     "output_type": "execute_result"
    }
   ],
   "source": [
    "clf.fit(train_vectors, train_df[\"target\"])"
   ]
  },
  {
   "cell_type": "markdown",
   "id": "c208df65",
   "metadata": {
    "papermill": {
     "duration": 0.006556,
     "end_time": "2022-08-16T15:51:12.640425",
     "exception": false,
     "start_time": "2022-08-16T15:51:12.633869",
     "status": "completed"
    },
    "tags": []
   },
   "source": [
    "# Submission"
   ]
  },
  {
   "cell_type": "code",
   "execution_count": 7,
   "id": "ff689d1c",
   "metadata": {
    "execution": {
     "iopub.execute_input": "2022-08-16T15:51:12.656053Z",
     "iopub.status.busy": "2022-08-16T15:51:12.655512Z",
     "iopub.status.idle": "2022-08-16T15:51:12.668954Z",
     "shell.execute_reply": "2022-08-16T15:51:12.667750Z"
    },
    "papermill": {
     "duration": 0.025359,
     "end_time": "2022-08-16T15:51:12.672604",
     "exception": false,
     "start_time": "2022-08-16T15:51:12.647245",
     "status": "completed"
    },
    "tags": []
   },
   "outputs": [],
   "source": [
    "sample_submission = pd.read_csv(\"../input/nlp-getting-started/sample_submission.csv\")"
   ]
  },
  {
   "cell_type": "code",
   "execution_count": 8,
   "id": "684a2493",
   "metadata": {
    "execution": {
     "iopub.execute_input": "2022-08-16T15:51:12.688534Z",
     "iopub.status.busy": "2022-08-16T15:51:12.688011Z",
     "iopub.status.idle": "2022-08-16T15:51:12.695546Z",
     "shell.execute_reply": "2022-08-16T15:51:12.694381Z"
    },
    "papermill": {
     "duration": 0.021462,
     "end_time": "2022-08-16T15:51:12.701186",
     "exception": false,
     "start_time": "2022-08-16T15:51:12.679724",
     "status": "completed"
    },
    "tags": []
   },
   "outputs": [],
   "source": [
    "sample_submission[\"target\"] = clf.predict(test_vectors)"
   ]
  },
  {
   "cell_type": "code",
   "execution_count": 9,
   "id": "32a8e584",
   "metadata": {
    "execution": {
     "iopub.execute_input": "2022-08-16T15:51:12.717049Z",
     "iopub.status.busy": "2022-08-16T15:51:12.716521Z",
     "iopub.status.idle": "2022-08-16T15:51:12.733908Z",
     "shell.execute_reply": "2022-08-16T15:51:12.732746Z"
    },
    "papermill": {
     "duration": 0.028189,
     "end_time": "2022-08-16T15:51:12.736389",
     "exception": false,
     "start_time": "2022-08-16T15:51:12.708200",
     "status": "completed"
    },
    "tags": []
   },
   "outputs": [
    {
     "data": {
      "text/html": [
       "<div>\n",
       "<style scoped>\n",
       "    .dataframe tbody tr th:only-of-type {\n",
       "        vertical-align: middle;\n",
       "    }\n",
       "\n",
       "    .dataframe tbody tr th {\n",
       "        vertical-align: top;\n",
       "    }\n",
       "\n",
       "    .dataframe thead th {\n",
       "        text-align: right;\n",
       "    }\n",
       "</style>\n",
       "<table border=\"1\" class=\"dataframe\">\n",
       "  <thead>\n",
       "    <tr style=\"text-align: right;\">\n",
       "      <th></th>\n",
       "      <th>id</th>\n",
       "      <th>target</th>\n",
       "    </tr>\n",
       "  </thead>\n",
       "  <tbody>\n",
       "    <tr>\n",
       "      <th>0</th>\n",
       "      <td>0</td>\n",
       "      <td>1</td>\n",
       "    </tr>\n",
       "    <tr>\n",
       "      <th>1</th>\n",
       "      <td>2</td>\n",
       "      <td>1</td>\n",
       "    </tr>\n",
       "    <tr>\n",
       "      <th>2</th>\n",
       "      <td>3</td>\n",
       "      <td>1</td>\n",
       "    </tr>\n",
       "    <tr>\n",
       "      <th>3</th>\n",
       "      <td>9</td>\n",
       "      <td>0</td>\n",
       "    </tr>\n",
       "    <tr>\n",
       "      <th>4</th>\n",
       "      <td>11</td>\n",
       "      <td>1</td>\n",
       "    </tr>\n",
       "  </tbody>\n",
       "</table>\n",
       "</div>"
      ],
      "text/plain": [
       "   id  target\n",
       "0   0       1\n",
       "1   2       1\n",
       "2   3       1\n",
       "3   9       0\n",
       "4  11       1"
      ]
     },
     "execution_count": 9,
     "metadata": {},
     "output_type": "execute_result"
    }
   ],
   "source": [
    "sample_submission.head()"
   ]
  },
  {
   "cell_type": "code",
   "execution_count": 10,
   "id": "5ca96c6f",
   "metadata": {
    "execution": {
     "iopub.execute_input": "2022-08-16T15:51:12.747896Z",
     "iopub.status.busy": "2022-08-16T15:51:12.747218Z",
     "iopub.status.idle": "2022-08-16T15:51:12.757391Z",
     "shell.execute_reply": "2022-08-16T15:51:12.756504Z"
    },
    "papermill": {
     "duration": 0.018358,
     "end_time": "2022-08-16T15:51:12.759592",
     "exception": false,
     "start_time": "2022-08-16T15:51:12.741234",
     "status": "completed"
    },
    "tags": []
   },
   "outputs": [],
   "source": [
    "sample_submission.to_csv(\"submission.csv\", index=False)"
   ]
  }
 ],
 "metadata": {
  "kernelspec": {
   "display_name": "Python 3",
   "language": "python",
   "name": "python3"
  },
  "language_info": {
   "codemirror_mode": {
    "name": "ipython",
    "version": 3
   },
   "file_extension": ".py",
   "mimetype": "text/x-python",
   "name": "python",
   "nbconvert_exporter": "python",
   "pygments_lexer": "ipython3",
   "version": "3.7.12"
  },
  "papermill": {
   "default_parameters": {},
   "duration": 11.690774,
   "end_time": "2022-08-16T15:51:13.485365",
   "environment_variables": {},
   "exception": null,
   "input_path": "__notebook__.ipynb",
   "output_path": "__notebook__.ipynb",
   "parameters": {},
   "start_time": "2022-08-16T15:51:01.794591",
   "version": "2.3.4"
  }
 },
 "nbformat": 4,
 "nbformat_minor": 5
}
